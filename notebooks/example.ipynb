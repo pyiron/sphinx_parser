{
 "cells": [
  {
   "cell_type": "markdown",
   "id": "c44a93e4-1ce4-4a26-a82a-3d2bff41988b",
   "metadata": {},
   "source": [
    "# Demo notebook\n",
    "\n",
    "In the standard setup, this notebook gets included in both the docs and the tests.\n",
    "\n",
    "In the notebook gallery in the docs, most notebooks will use their last image as their thumbnail; this notebook specifies usage of the pyiron logo in `docs/conf.py` under the `nbsphinx_thumbnails` dictionary."
   ]
  },
  {
   "cell_type": "code",
   "execution_count": null,
   "id": "52a8cfcc",
   "metadata": {},
   "outputs": [],
   "source": [
    "import sphinx_parser\n\n",
    "print(sphinx_parser.__version__)"
   ]
  }
 ],
 "metadata": {
  "kernelspec": {
   "display_name": "Python 3 (ipykernel)",
   "language": "python",
   "name": "python3"
  },
  "language_info": {
   "codemirror_mode": {
    "name": "ipython",
    "version": 3
   },
   "file_extension": ".py",
   "mimetype": "text/x-python",
   "name": "python",
   "nbconvert_exporter": "python",
   "pygments_lexer": "ipython3",
   "version": "3.11.7"
  }
 },
 "nbformat": 4,
 "nbformat_minor": 5
}
